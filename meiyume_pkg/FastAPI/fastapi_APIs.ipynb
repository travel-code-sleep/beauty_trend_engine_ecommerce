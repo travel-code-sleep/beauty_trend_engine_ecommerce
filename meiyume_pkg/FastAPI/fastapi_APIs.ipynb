{
 "cells": [
  {
   "cell_type": "code",
   "execution_count": 20,
   "metadata": {},
   "outputs": [
    {
     "name": "stdout",
     "output_type": "stream",
     "text": [
      "The lab_black extension is already loaded. To reload it, use:\n",
      "  %reload_ext lab_black\n"
     ]
    }
   ],
   "source": [
    "%load_ext lab_black\n",
    "import os\n",
    "import pandas as pd\n",
    "from dotenv import load_dotenv\n",
    "from meiyume.utils import RedShiftReader, S3FileManager\n",
    "import boto3\n",
    "import io"
   ]
  },
  {
   "cell_type": "code",
   "execution_count": 13,
   "metadata": {},
   "outputs": [
    {
     "data": {
      "text/plain": [
       "27"
      ]
     },
     "execution_count": 13,
     "metadata": {},
     "output_type": "execute_result"
    }
   ],
   "source": [
    "file_manager = S3FileManager()\n",
    "s3_keys = file_manager.get_matching_s3_keys(\n",
    "    prefix=\"Feeds/BeautyTrendEngine/WebAppData/\"\n",
    ")\n",
    "s3_keys = list(s3_keys)\n",
    "len(s3_keys)"
   ]
  },
  {
   "cell_type": "code",
   "execution_count": 26,
   "metadata": {},
   "outputs": [
    {
     "data": {
      "text/plain": [
       "{'Key': 'Feeds/BeautyTrendEngine/WebAppData/category_page_distinct_brands_products',\n",
       " 'LastModified': datetime.datetime(2021, 1, 19, 8, 47, 8, tzinfo=tzutc()),\n",
       " 'ETag': '\"3126e3b9d6db656b32d7b1d8b230aff7\"',\n",
       " 'Size': 14410,\n",
       " 'StorageClass': 'STANDARD'}"
      ]
     },
     "execution_count": 26,
     "metadata": {},
     "output_type": "execute_result"
    }
   ],
   "source": [
    "s3_keys[0]"
   ]
  },
  {
   "cell_type": "code",
   "execution_count": 25,
   "metadata": {},
   "outputs": [
    {
     "data": {
      "text/plain": [
       "['category_page_distinct_brands_products',\n",
       " 'category_page_item_package_oz',\n",
       " 'category_page_item_variations_price',\n",
       " 'category_page_new_ingredients',\n",
       " 'category_page_new_products_count',\n",
       " 'category_page_new_products_details',\n",
       " 'category_page_pricing_data',\n",
       " 'category_page_reviews_by_user_attributes',\n",
       " 'category_page_top_products',\n",
       " 'ing_page_ing_data',\n",
       " 'landing_page_data',\n",
       " 'meta_product_launch_intensity_category_month',\n",
       " 'meta_product_launch_trend_category_month',\n",
       " 'meta_product_launch_trend_product_type_month',\n",
       " 'new_ingredient_trend_category_month',\n",
       " 'new_ingredient_trend_product_type_month',\n",
       " 'prod_page_ing_data',\n",
       " 'prod_page_item_data',\n",
       " 'prod_page_product_review_summary',\n",
       " 'prod_page_review_sentiment_influence',\n",
       " 'prod_page_review_talking_points',\n",
       " 'prod_page_reviews_attribute',\n",
       " 'product_page_metadetail_data',\n",
       " 'review_trend_by_marketing_category_month',\n",
       " 'review_trend_by_marketing_product_type_month',\n",
       " 'review_trend_category_month',\n",
       " 'review_trend_product_type_month']"
      ]
     },
     "execution_count": 25,
     "metadata": {},
     "output_type": "execute_result"
    }
   ],
   "source": [
    "s3_keys_name_list = [x[\"Key\"].split(\"/\")[-1] for x in s3_keys]\n",
    "s3_keys_name_list"
   ]
  },
  {
   "cell_type": "code",
   "execution_count": 21,
   "metadata": {},
   "outputs": [],
   "source": [
    "load_dotenv()\n",
    "S3_BUCKET = \"meiyume-datawarehouse-prod\"\n",
    "S3_PREFIX = \"Feeds/BeautyTrendEngine\"\n",
    "S3_REGION = \"ap-southeast-1\"\n",
    "AWS_ACCESS_KEY_ID = os.environ.get(\"AWS_ACCESS_KEY_ID\")\n",
    "AWS_SECRET_ACCESS_KEY = os.environ.get(\"AWS_SECRET_ACCESS_KEY\")\n",
    "\n",
    "\n",
    "def get_s3_client(region: str, access_key_id: str, secret_access_key: str):\n",
    "    if region == \"\":  # or access_key_id == '' or secret_access_key == '':\n",
    "        print(\"*ERROR: S3 client information not set*\")\n",
    "        return sys.exit(1)\n",
    "    else:\n",
    "        try:\n",
    "            client = boto3.client(\n",
    "                \"s3\",\n",
    "                region,\n",
    "                aws_access_key_id=access_key_id,\n",
    "                aws_secret_access_key=secret_access_key,\n",
    "            )\n",
    "        except Exception as ex:\n",
    "            client = boto3.client(\"s3\")\n",
    "    return client\n",
    "\n",
    "\n",
    "def read_file_s3(\n",
    "    filename: str,\n",
    "    # f\"{S3_PREFIX}/WebAppData\",\n",
    "    # \"Feeds/BeautyTrendEngine/WebAppDevelopmentData/Test\"\n",
    "    prefix: str = f\"{S3_PREFIX}/WebAppData\",\n",
    "    bucket: str = S3_BUCKET,\n",
    "    file_type: str = \"feather\",\n",
    ") -> pd.DataFrame:\n",
    "    key = prefix + \"/\" + filename\n",
    "    s3 = get_s3_client(S3_REGION, AWS_ACCESS_KEY_ID, AWS_SECRET_ACCESS_KEY)\n",
    "    obj = s3.get_object(Bucket=bucket, Key=key)\n",
    "    if file_type == \"feather\":\n",
    "        df = pd.read_feather(io.BytesIO(obj[\"Body\"].read()))\n",
    "    elif file_type == \"pickle\":\n",
    "        df = pd.read_pickle(io.BytesIO(obj[\"Body\"].read()))\n",
    "    return df"
   ]
  },
  {
   "cell_type": "code",
   "execution_count": 36,
   "metadata": {},
   "outputs": [],
   "source": [
    "category_page_distinct_brands_products_df = read_file_s3(\n",
    "    filename=\"category_page_distinct_brands_products\", file_type=\"feather\"\n",
    ")\n",
    "json_response = category_page_distinct_brands_products_df.to_json(orient=\"records\")"
   ]
  },
  {
   "cell_type": "code",
   "execution_count": 31,
   "metadata": {},
   "outputs": [],
   "source": [
    "# category_page_distinct_brands_products_df.to_json(orient=\"records\")\n",
    "# category_page_distinct_brands_products_df.to_json(\n",
    "#     \"temp.json\",\n",
    "#     orient=\"records\",\n",
    "# )"
   ]
  },
  {
   "cell_type": "code",
   "execution_count": null,
   "metadata": {},
   "outputs": [],
   "source": []
  }
 ],
 "metadata": {
  "kernelspec": {
   "display_name": "Python 3",
   "language": "python",
   "name": "python3"
  },
  "language_info": {
   "codemirror_mode": {
    "name": "ipython",
    "version": 3
   },
   "file_extension": ".py",
   "mimetype": "text/x-python",
   "name": "python",
   "nbconvert_exporter": "python",
   "pygments_lexer": "ipython3",
   "version": "3.8.5"
  }
 },
 "nbformat": 4,
 "nbformat_minor": 4
}
